{
 "cells": [
  {
   "cell_type": "code",
   "execution_count": 1,
   "id": "a628448d-3c5e-4abc-aaa3-54ca1ee21ed6",
   "metadata": {},
   "outputs": [],
   "source": [
    "from nba_api.stats.static import teams\n",
    "from nba_api.stats.endpoints import teamgamelog\n",
    "import pandas as pd"
   ]
  },
  {
   "cell_type": "code",
   "execution_count": 2,
   "id": "bff222bd-8097-43aa-8b82-8cbd356eec5c",
   "metadata": {},
   "outputs": [],
   "source": [
    "team_dict = teams.get_teams()\n",
    "season = \"2024-25\" # Current NBA season\n",
    "nba_stats = pd.DataFrame()"
   ]
  },
  {
   "cell_type": "code",
   "execution_count": 3,
   "id": "686d421e-dcfa-4540-9f3d-c8ad4a3e1bc5",
   "metadata": {},
   "outputs": [],
   "source": [
    "# Getting NBA stats needed\n",
    "for team in team_dict:\n",
    "    team_name = team['full_name']\n",
    "    team_id = team['id']\n",
    "    team_log = teamgamelog.TeamGameLog(team_id=team_id, season = season)\n",
    "    team_stats = team_log.get_data_frames()[0]\n",
    "    team_stats['Team'] = team_name\n",
    "\n",
    "    nba_stats = pd.concat([nba_stats, team_stats], ignore_index=True)"
   ]
  },
  {
   "cell_type": "code",
   "execution_count": 4,
   "id": "07cd0316-65c2-4c1b-a665-3909742df768",
   "metadata": {},
   "outputs": [],
   "source": [
    "# Editing the data\n",
    "duplicate_nba_stats = nba_stats.copy()\n",
    "overall_nba_stats = pd.merge(nba_stats, duplicate_nba_stats, on='Game_ID', suffixes=('','_Opponent'))\n",
    "overall_nba_stats = overall_nba_stats[overall_nba_stats['Team_ID'] != overall_nba_stats['Team_ID_Opponent']]"
   ]
  },
  {
   "cell_type": "code",
   "execution_count": 5,
   "id": "81bbc3e8-d28e-4471-9799-515c2a7a90d0",
   "metadata": {},
   "outputs": [],
   "source": [
    "overall_nba_stats = overall_nba_stats.drop(['MIN','FGM','FGA','FG3M','FG3A','FTM','FTA','DREB','GAME_DATE_Opponent','MATCHUP_Opponent','WL_Opponent','W_Opponent','L_Opponent','MIN_Opponent','FGM_Opponent','FGA_Opponent','FG3M_Opponent','FG3A_Opponent','FTM_Opponent','FTA_Opponent','DREB_Opponent'],axis=1)\n",
    "overall_nba_stats = overall_nba_stats.dropna()"
   ]
  },
  {
   "cell_type": "code",
   "execution_count": 6,
   "id": "bd4749f1-c070-4718-832b-5d61b7f55faf",
   "metadata": {},
   "outputs": [],
   "source": [
    "overall_nba_stats['W'] = overall_nba_stats['W'] + overall_nba_stats['L']\n",
    "overall_nba_stats.rename(columns={'W': 'Games_Played'}, inplace=True)"
   ]
  },
  {
   "cell_type": "code",
   "execution_count": 7,
   "id": "c2c6cabc-41cf-41c8-bd24-8cecea3a877b",
   "metadata": {},
   "outputs": [],
   "source": [
    "#Get Number of Wins in last 10 Games\n",
    "last_10_game = []\n",
    "for i in range(len(overall_nba_stats)):\n",
    "    team_name = overall_nba_stats.iloc[i]['Team']\n",
    "    win = 0\n",
    "    total = 0\n",
    "    for j in range(0,9):\n",
    "        if (i+j >= len(overall_nba_stats)):\n",
    "            break\n",
    "        if (overall_nba_stats.iloc[i+j]['Team'] == team_name):\n",
    "            total = total+1\n",
    "            if (overall_nba_stats.iloc[i+j]['WL'] == 'W'):\n",
    "                win = win+1\n",
    "    last_10_game_winPct = win/total if total>0 else 0\n",
    "    last_10_game.append(last_10_game_winPct)\n",
    "overall_nba_stats['Last_10_Game_W_PCT'] = last_10_game\n",
    "    "
   ]
  },
  {
   "cell_type": "code",
   "execution_count": 8,
   "id": "736468a6-60c1-4941-9c3b-72f5de793be0",
   "metadata": {},
   "outputs": [],
   "source": [
    "# Head-To-Head Record\n",
    "h2h_record=[]\n",
    "for i in range(len(overall_nba_stats)):\n",
    "    opponent_name = overall_nba_stats.iloc[i]['Team_Opponent']\n",
    "    win = 0\n",
    "    total = 0 \n",
    "    games_played = int(overall_nba_stats.iloc[i]['Games_Played'])\n",
    "    for j in range(games_played):\n",
    "        if (overall_nba_stats.iloc[i+j]['Team_Opponent']==opponent_name):\n",
    "            total = total+1\n",
    "            if (overall_nba_stats.iloc[i+j]['WL']=='W'):\n",
    "                win=win+1\n",
    "    h2h_winPct = win/total\n",
    "    h2h_record.append(h2h_winPct)\n",
    "overall_nba_stats['Head_To_Head_W_PCT'] = h2h_record"
   ]
  },
  {
   "cell_type": "code",
   "execution_count": 9,
   "id": "9ba93567-7e61-458d-bc5e-5ac8010aa1e4",
   "metadata": {},
   "outputs": [],
   "source": [
    "# Back-To-Back Games\n",
    "overall_nba_stats['GAME_DATE'] = pd.to_datetime(overall_nba_stats['GAME_DATE'], format = '%b %d, %Y')\n",
    "back_to_back = []\n",
    "for i in range(len(overall_nba_stats)):\n",
    "    team_name = overall_nba_stats.iloc[i]['Team']\n",
    "    if (i+1>=len(overall_nba_stats)):\n",
    "        back_to_back.append(0)\n",
    "        break\n",
    "    day_difference = (overall_nba_stats.iloc[i]['GAME_DATE'] - overall_nba_stats.iloc[i+1]['GAME_DATE']).days\n",
    "    if (day_difference == 1 and overall_nba_stats.iloc[i+1]['Team'] == team_name):\n",
    "        back_to_back.append(1)\n",
    "        continue\n",
    "    back_to_back.append(0)\n",
    "overall_nba_stats['Back-To-Back'] = back_to_back                                             "
   ]
  },
  {
   "cell_type": "code",
   "execution_count": 10,
   "id": "880fa3f4-065a-47f4-8250-f8366b0c9f57",
   "metadata": {},
   "outputs": [],
   "source": [
    "# Home/Away\n",
    "overall_nba_stats['Home-Away'] = overall_nba_stats['MATCHUP'].apply(lambda x: '1' if 'vs.' in x else '0')"
   ]
  },
  {
   "cell_type": "code",
   "execution_count": 11,
   "id": "9309373b-41b6-4bd6-a22e-a74e5a3e004e",
   "metadata": {},
   "outputs": [],
   "source": [
    "from nba_api.stats.endpoints import commonteamroster\n",
    "from nba_api.stats.endpoints import playergamelog\n",
    "\n",
    "# Top 3 Player playing\n",
    "nba_plus_minus = []\n",
    "for team in team_dict:\n",
    "    team_name = team['full_name']\n",
    "    team_id = team['id']\n",
    "    team_roster = commonteamroster.CommonTeamRoster(team_id=team_id)\n",
    "    roster = team_roster.get_data_frames()[0]\n",
    "    team_plus_minus = []\n",
    "    for i in range(len(roster)):\n",
    "        player_id = roster.iloc[i]['PLAYER_ID']\n",
    "        player_name = roster.iloc[i]['PLAYER']\n",
    "        player_gamelog = playergamelog.PlayerGameLog(player_id=player_id, season='2024-25')\n",
    "        gamelog_df = player_gamelog.get_data_frames()[0]\n",
    "        gamelog_df['PLUS_MINUS'] = gamelog_df['PLUS_MINUS'].astype(float)\n",
    "        player_plus_minus = gamelog_df['PLUS_MINUS'].sum()\n",
    "        team_plus_minus.append([player_name,player_id,player_plus_minus])\n",
    "    nba_plus_minus.append([team_name,team_id,team_plus_minus])"
   ]
  },
  {
   "cell_type": "code",
   "execution_count": 12,
   "id": "44c54581-3027-47db-922c-5425c9d4bcdb",
   "metadata": {},
   "outputs": [],
   "source": [
    "top_players = []\n",
    "for team in nba_plus_minus:\n",
    "    team_name = team[0]\n",
    "    players = team[2]\n",
    "    team_id = team[1]\n",
    "    sort_player = sorted(players, key=lambda x:x[2], reverse = True)\n",
    "    top_3_plus_minus = sort_player[:3]\n",
    "    top_players.append([team_name, team_id, top_3_plus_minus])"
   ]
  },
  {
   "cell_type": "code",
   "execution_count": 13,
   "id": "50dfa380-9b38-4455-a782-ca655c2bd049",
   "metadata": {},
   "outputs": [],
   "source": [
    "from nba_api.stats.endpoints import BoxScoreTraditionalV2\n",
    "\n",
    "def is_player_playing(box_score,game_id, player_id):\n",
    "    player_stats = box_score.player_stats.get_dict()['data']\n",
    "    for player in player_stats:\n",
    "        if player[4] == player_id:\n",
    "            return True\n",
    "    return False"
   ]
  },
  {
   "cell_type": "code",
   "execution_count": 14,
   "id": "21f25008-903b-4a89-8da1-9492a98fb5dc",
   "metadata": {},
   "outputs": [],
   "source": [
    "top_3_playing = [[],[],[]]\n",
    "top_3_players = [[],[],[]]\n",
    "top_3_opponent_playing = [[],[],[]]\n",
    "top_3_opponent_players = [[],[],[]]\n",
    "for i in range(len(overall_nba_stats)):\n",
    "    game_id = overall_nba_stats.iloc[i]['Game_ID']\n",
    "    team_name = overall_nba_stats.iloc[i]['Team']\n",
    "    opponent_team_name = overall_nba_stats.iloc[i]['Team_Opponent']\n",
    "    box_score = BoxScoreTraditionalV2(game_id=game_id, timeout=2000)\n",
    "    team_details = next((team for team in top_players if team[0] == team_name), None)\n",
    "    team_opponent_details = next((team for team in top_players if team[0] == opponent_team_name), None)\n",
    "    for j in range(3):\n",
    "        player_team = team_details[2][j]\n",
    "        player_id_team = player_team[1]\n",
    "        player_opponent = team_opponent_details[2][j]\n",
    "        player_id_opponent = player_opponent[1]\n",
    "        is_playing_team = is_player_playing(box_score,game_id, player_id_team)\n",
    "        is_playing_opponent = is_player_playing(box_score,game_id,player_id_opponent)\n",
    "        top_3_players[j].append(player_team[0])\n",
    "        top_3_opponent_players[j].append(player_opponent[0])\n",
    "        if (is_playing_team):\n",
    "            top_3_playing[j].append(1)\n",
    "        else:\n",
    "            top_3_playing[j].append(0)\n",
    "        if (is_playing_opponent):\n",
    "            top_3_opponent_playing[j].append(1)\n",
    "        else:\n",
    "            top_3_opponent_playing[j].append(0)\n",
    "        \n",
    "overall_nba_stats['No.1 Plus Minus Player'] = top_3_players[0]\n",
    "overall_nba_stats['No.2 Plus Minus Player'] = top_3_players[1]\n",
    "overall_nba_stats['No.3 Plus Minus Player'] = top_3_players[2]\n",
    "overall_nba_stats['No.1 Plus Minus Playing'] = top_3_playing[0]\n",
    "overall_nba_stats['No.2 Plus Minus Playing'] = top_3_playing[1]\n",
    "overall_nba_stats['No.3 Plus Minus Playing'] = top_3_playing[2]\n",
    "overall_nba_stats['No.1 Plus Minus Opponent Player'] = top_3_opponent_players[0]\n",
    "overall_nba_stats['No.2 Plus Minus Opponent Player'] = top_3_opponent_players[1]\n",
    "overall_nba_stats['No.3 Plus Minus Opponent Player'] = top_3_opponent_players[2]\n",
    "overall_nba_stats['No.1 Plus Minus Opponent Playing'] = top_3_opponent_playing[0]\n",
    "overall_nba_stats['No.2 Plus Minus Opponent Playing'] = top_3_opponent_playing[1]\n",
    "overall_nba_stats['No.3 Plus Minus Opponent Playing'] = top_3_opponent_playing[2]"
   ]
  },
  {
   "cell_type": "code",
   "execution_count": 15,
   "id": "2c690999-972d-493c-98e7-60b9cc27c6a8",
   "metadata": {},
   "outputs": [],
   "source": [
    "# Changing data to numerical\n",
    "overall_nba_stats['WL'] = overall_nba_stats['WL'].apply(lambda x: 1 if x=='W' else 0)"
   ]
  },
  {
   "cell_type": "code",
   "execution_count": 16,
   "id": "89ce4678-ff4e-41b4-a3ba-ef40b0c26084",
   "metadata": {},
   "outputs": [],
   "source": [
    "# Set X and y\n",
    "X = overall_nba_stats.drop(['Game_ID','WL','GAME_DATE','MATCHUP','Games_Played','L','Team','Team_Opponent','No.1 Plus Minus Player','No.2 Plus Minus Player','No.3 Plus Minus Player','No.1 Plus Minus Opponent Player','No.2 Plus Minus Opponent Player','No.3 Plus Minus Opponent Player'], axis=1)\n",
    "y = overall_nba_stats['WL']"
   ]
  },
  {
   "cell_type": "code",
   "execution_count": 17,
   "id": "ecccc01a-2617-4f6e-9706-295b85c44d79",
   "metadata": {},
   "outputs": [],
   "source": [
    "from sklearn.preprocessing import MinMaxScaler\n",
    "\n",
    "# Scale data\n",
    "scaler = MinMaxScaler()\n",
    "columns_scale = ['Team_ID','OREB','REB','AST','STL','BLK','TOV','PF','PTS','Team_ID_Opponent','OREB_Opponent','REB_Opponent','AST_Opponent','STL_Opponent','BLK_Opponent','TOV_Opponent','PF_Opponent','PTS_Opponent']\n",
    "X[columns_scale] = scaler.fit_transform(X[columns_scale])"
   ]
  },
  {
   "cell_type": "code",
   "execution_count": 18,
   "id": "85199719-26cf-4a30-bc2e-9f68e60a29a0",
   "metadata": {},
   "outputs": [
    {
     "data": {
      "text/plain": [
       "['scaler.pkl']"
      ]
     },
     "execution_count": 18,
     "metadata": {},
     "output_type": "execute_result"
    }
   ],
   "source": [
    "import joblib\n",
    "joblib.dump(scaler,\"scaler.pkl\")"
   ]
  },
  {
   "cell_type": "code",
   "execution_count": 19,
   "id": "ce90209c-a595-4149-9d88-f896fd952048",
   "metadata": {},
   "outputs": [],
   "source": [
    "import torch\n",
    "import torch.nn as nn\n",
    "import torch.nn.functional as F"
   ]
  },
  {
   "cell_type": "code",
   "execution_count": 94,
   "id": "42b93503-1b2f-4959-9135-691c6b6c05b7",
   "metadata": {},
   "outputs": [],
   "source": [
    "class Model(nn.Module):\n",
    "    # Input Layer (36 features)\n",
    "    # Hidden Layer 1 (16 neurons)\n",
    "    # Hidden Layer 2 (16 neurons)\n",
    "    # Hidden Layer 3 (16 neurons)\n",
    "    # Output Layer (2 - Win or Loss)\n",
    "    def __init__(self, in_features=36, h1=16, h2=16, h3=16, out_features=2):\n",
    "        super().__init__()\n",
    "        self.fc1 = nn.Linear(in_features,h1)\n",
    "        self.fc2 = nn.Linear(h1,h2)\n",
    "        self.fc3 = nn.Linear(h2,h3)\n",
    "        self.out = nn.Linear(h3,out_features)\n",
    "\n",
    "    def forward(self, x):\n",
    "        x = F.relu(self.fc1(x))\n",
    "        x = F.relu(self.fc2(x))\n",
    "        x = F.relu(self.fc3(x))\n",
    "        x = self.out(x)\n",
    "        return x"
   ]
  },
  {
   "cell_type": "code",
   "execution_count": 95,
   "id": "70e73eb3-7fb1-4967-86fa-2d4e0ad8cbdb",
   "metadata": {},
   "outputs": [],
   "source": [
    "# Create Model\n",
    "model = Model()"
   ]
  },
  {
   "cell_type": "code",
   "execution_count": 27,
   "id": "46f5925d-a10c-4a74-8591-9e53a9d7b1f5",
   "metadata": {},
   "outputs": [
    {
     "ename": "AttributeError",
     "evalue": "'numpy.ndarray' object has no attribute 'values'",
     "output_type": "error",
     "traceback": [
      "\u001b[1;31m---------------------------------------------------------------------------\u001b[0m",
      "\u001b[1;31mAttributeError\u001b[0m                            Traceback (most recent call last)",
      "Cell \u001b[1;32mIn[27], line 3\u001b[0m\n\u001b[0;32m      1\u001b[0m \u001b[38;5;66;03m# Train Test Split\u001b[39;00m\n\u001b[0;32m      2\u001b[0m \u001b[38;5;28;01mfrom\u001b[39;00m \u001b[38;5;21;01msklearn\u001b[39;00m\u001b[38;5;21;01m.\u001b[39;00m\u001b[38;5;21;01mmodel_selection\u001b[39;00m \u001b[38;5;28;01mimport\u001b[39;00m train_test_split\n\u001b[1;32m----> 3\u001b[0m X \u001b[38;5;241m=\u001b[39m \u001b[43mX\u001b[49m\u001b[38;5;241;43m.\u001b[39;49m\u001b[43mvalues\u001b[49m\n\u001b[0;32m      4\u001b[0m y \u001b[38;5;241m=\u001b[39m y\u001b[38;5;241m.\u001b[39mvalues\n\u001b[0;32m      5\u001b[0m X_train, X_test, y_train, y_test \u001b[38;5;241m=\u001b[39m train_test_split(X,y,test_size\u001b[38;5;241m=\u001b[39m\u001b[38;5;241m0.3\u001b[39m)\n",
      "\u001b[1;31mAttributeError\u001b[0m: 'numpy.ndarray' object has no attribute 'values'"
     ]
    }
   ],
   "source": [
    "# Train Test Split\n",
    "from sklearn.model_selection import train_test_split\n",
    "X = X.values\n",
    "y = y.values\n",
    "X_train, X_test, y_train, y_test = train_test_split(X,y,test_size=0.2)"
   ]
  },
  {
   "cell_type": "code",
   "execution_count": 23,
   "id": "69fda3cd-d07c-494b-a89c-f84a69d47d51",
   "metadata": {},
   "outputs": [],
   "source": [
    "import numpy as np\n",
    "# Convert Tensors\n",
    "X_train = np.array(X_train, dtype=np.float32)\n",
    "X_test = np.array(X_test, dtype=np.float32)  \n",
    "y_train = np.array(y_train, dtype=np.float32)  \n",
    "y_test = np.array(y_test, dtype=np.float32) \n",
    "\n",
    "X_train = torch.FloatTensor(X_train)\n",
    "X_test = torch.FloatTensor(X_test)\n",
    "y_train = torch.LongTensor(y_train)\n",
    "y_test = torch.LongTensor(y_test)"
   ]
  },
  {
   "cell_type": "code",
   "execution_count": 96,
   "id": "2ce677f6-1892-4720-8d78-ef1935375d9f",
   "metadata": {},
   "outputs": [],
   "source": [
    "# Set Criterion and Optimizer\n",
    "criterion = nn.CrossEntropyLoss()\n",
    "optimizer = torch.optim.Adam(model.parameters(), lr=0.001)"
   ]
  },
  {
   "cell_type": "code",
   "execution_count": 97,
   "id": "a89fa0f9-9daf-4dd9-8e22-c7f10013386f",
   "metadata": {},
   "outputs": [
    {
     "name": "stdout",
     "output_type": "stream",
     "text": [
      "Epoch: 0 and loss: 0.6874901056289673\n",
      "Epoch: 10 and loss: 0.6783396601676941\n",
      "Epoch: 20 and loss: 0.6646040678024292\n",
      "Epoch: 30 and loss: 0.6453679800033569\n",
      "Epoch: 40 and loss: 0.615996778011322\n",
      "Epoch: 50 and loss: 0.5709676146507263\n",
      "Epoch: 60 and loss: 0.5083140134811401\n",
      "Epoch: 70 and loss: 0.4278066158294678\n",
      "Epoch: 80 and loss: 0.33742424845695496\n",
      "Epoch: 90 and loss: 0.25011831521987915\n"
     ]
    }
   ],
   "source": [
    "# Train Model\n",
    "epochs = 100\n",
    "losses = []\n",
    "for i in range(epochs):\n",
    "    y_pred = model.forward(X_train)\n",
    "    loss = criterion(y_pred, y_train)\n",
    "    losses.append(loss.detach().numpy())\n",
    "    if i % 10 == 0:\n",
    "        print(f'Epoch: {i} and loss: {loss}')\n",
    "\n",
    "    optimizer.zero_grad()\n",
    "    loss.backward()\n",
    "    optimizer.step()"
   ]
  },
  {
   "cell_type": "code",
   "execution_count": 98,
   "id": "17bd5356-67a4-42a8-b2c0-0456ff7f9740",
   "metadata": {},
   "outputs": [],
   "source": [
    "# Save Model\n",
    "torch.save(model.state_dict(), 'nba_prediction_model.pt')"
   ]
  },
  {
   "cell_type": "code",
   "execution_count": 75,
   "id": "e31363cc-d13e-47e6-91d0-adbaf301687a",
   "metadata": {},
   "outputs": [],
   "source": [
    "# To load Model\n",
    "# new_model = Model()\n",
    "# new_model.load_state_dict(torch.load('nba_prediction_model.pt'))"
   ]
  },
  {
   "cell_type": "code",
   "execution_count": null,
   "id": "6c4679f7-dac8-407d-a9d1-8c4245c88304",
   "metadata": {},
   "outputs": [],
   "source": []
  }
 ],
 "metadata": {
  "kernelspec": {
   "display_name": "Python 3 (ipykernel)",
   "language": "python",
   "name": "python3"
  },
  "language_info": {
   "codemirror_mode": {
    "name": "ipython",
    "version": 3
   },
   "file_extension": ".py",
   "mimetype": "text/x-python",
   "name": "python",
   "nbconvert_exporter": "python",
   "pygments_lexer": "ipython3",
   "version": "3.11.9"
  }
 },
 "nbformat": 4,
 "nbformat_minor": 5
}
